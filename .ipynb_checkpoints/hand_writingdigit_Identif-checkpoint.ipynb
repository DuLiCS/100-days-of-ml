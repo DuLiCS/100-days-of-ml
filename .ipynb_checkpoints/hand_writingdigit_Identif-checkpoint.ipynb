{
 "cells": [
  {
   "cell_type": "markdown",
   "metadata": {},
   "source": [
    "这是KNN部分的第二个小的project,手写字符识别,识别的只是0-9的数字,数据集已经打包了,是将图片转换成了由0和1组成的txt文件.训练和测试集已经有了.\n",
    "具体的思路很简单,也符合KNN的常见解决问题的思路"
   ]
  }
 ],
 "metadata": {
  "kernelspec": {
   "display_name": "Python 3",
   "language": "python",
   "name": "python3"
  },
  "language_info": {
   "codemirror_mode": {
    "name": "ipython",
    "version": 3
   },
   "file_extension": ".py",
   "mimetype": "text/x-python",
   "name": "python",
   "nbconvert_exporter": "python",
   "pygments_lexer": "ipython3",
   "version": "3.6.4"
  }
 },
 "nbformat": 4,
 "nbformat_minor": 2
}
