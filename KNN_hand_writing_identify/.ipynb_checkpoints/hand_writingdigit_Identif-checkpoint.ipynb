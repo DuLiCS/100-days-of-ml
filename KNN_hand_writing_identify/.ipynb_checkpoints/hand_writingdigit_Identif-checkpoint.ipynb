{
 "cells": [
  {
   "cell_type": "markdown",
   "metadata": {},
   "source": [
    "这是KNN部分的第二个小的project,手写字符识别,识别的只是0-9的数字,数据集已经打包了,是将图片转换成了由0和1组成的txt文件.训练和测试集已经有了.\n",
    "具体的思路很简单,也符合KNN的常见解决问题的思路.\n",
    "1.数据预处理.主要是将txt文件读入,转化成向量,并将对应数字一并写入.\n",
    "2.写入进行训练.\n",
    "3.测试并得到混淆矩阵\n",
    "4.分析不同k值对准确率的影响."
   ]
  },
  {
   "cell_type": "code",
   "execution_count": null,
   "metadata": {},
   "outputs": [],
   "source": []
  }
 ],
 "metadata": {
  "kernelspec": {
   "display_name": "Python 3",
   "language": "python",
   "name": "python3"
  },
  "language_info": {
   "codemirror_mode": {
    "name": "ipython",
    "version": 3
   },
   "file_extension": ".py",
   "mimetype": "text/x-python",
   "name": "python",
   "nbconvert_exporter": "python",
   "pygments_lexer": "ipython3",
   "version": "3.6.4"
  }
 },
 "nbformat": 4,
 "nbformat_minor": 2
}
