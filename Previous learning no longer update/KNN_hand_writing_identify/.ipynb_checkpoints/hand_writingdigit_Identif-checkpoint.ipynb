{
 "cells": [
  {
   "cell_type": "markdown",
   "metadata": {},
   "source": [
    "# KNN-based hand writing recognition project\n",
    "\n",
    "这是KNN部分的第二个小的project,手写字符识别,识别的只是0-9的数字,数据集已经打包了,是将图片转换成了由0和1组成的txt文件.训练和测试集已经有了.\n",
    "具体的思路很简单,也符合KNN的常见解决问题的思路.\n",
    "1.数据预处理.主要是将txt文件读入,转化成向量,并将对应数字一并写入.\n",
    "2.写入进行训练.\n",
    "3.测试并得到混淆矩阵\n",
    "4.分析不同k值对准确率的影响."
   ]
  },
  {
   "cell_type": "markdown",
   "metadata": {},
   "source": [
    "### 预处理\n",
    "将所提供的32*32的图像矩阵转化为行向量"
   ]
  },
  {
   "cell_type": "code",
   "execution_count": 76,
   "metadata": {},
   "outputs": [],
   "source": [
    "import numpy as np\n",
    "import os\n",
    "def imgMatrix2Vector(filename):\n",
    "    retunVector = np.zeros((1,1024))\n",
    "    f = open(filename)\n",
    "    for i in range(32):\n",
    "        linedata = f.readline()\n",
    "        for j in range(32):\n",
    "            retunVector[0,32*i+j] = int(linedata[j])\n",
    "    return retunVector"
   ]
  },
  {
   "cell_type": "code",
   "execution_count": 77,
   "metadata": {},
   "outputs": [],
   "source": [
    "training_file_list = os.listdir(os.getcwd()+'/digits/trainingDigits/')\n",
    "test_file_list = os.listdir(os.getcwd()+'/digits/testDigits/')\n",
    "trainingMatrix = np.zeros([len(training_file_list),1024])\n",
    "trainingdigitsMatrix = np.zeros(len(training_file_list))\n",
    "testMatrix = np.zeros([len(test_file_list),1024])\n",
    "testdigitsMatrix = np.zeros(len(test_file_list))\n",
    "for i in range(len(training_file_list)):\n",
    "    trainingMatrix[i,:] = imgMatrix2Vector(os.getcwd()+'/digits/trainingDigits/'+training_file_list[i])\n",
    "    trainingdigitsMatrix[i] = int(training_file_list[i][0])\n",
    "\n",
    "for i in range(len(test_file_list)):\n",
    "    testMatrix[i,:] = imgMatrix2Vector(os.getcwd()+'/digits/testDigits/'+test_file_list[i])\n",
    "    testdigitsMatrix[i] = int(test_file_list[i][0])"
   ]
  },
  {
   "cell_type": "markdown",
   "metadata": {},
   "source": [
    "以上是数据预处理部分,将给定的txt文件转换为向量并储存在trainMatrix中,并将每一个向量对应的数字存储在digitsMatrix中,供后续程序使用"
   ]
  },
  {
   "cell_type": "code",
   "execution_count": 78,
   "metadata": {},
   "outputs": [],
   "source": [
    "from sklearn.neighbors import KNeighborsClassifier\n",
    "from sklearn.metrics import confusion_matrix\n",
    "KSet = 30\n",
    "K_acc = np.zeros(KSet)"
   ]
  },
  {
   "cell_type": "code",
   "execution_count": 79,
   "metadata": {},
   "outputs": [],
   "source": [
    "for iter in range(KSet):\n",
    "    classifier = KNeighborsClassifier(n_neighbors=iter+1,metric='minkowski',p=2)\n",
    "    classifier.fit(trainingMatrix,trainingdigitsMatrix)\n",
    "    Y_pred = classifier.predict(testMatrix)\n",
    "    cm = confusion_matrix(testdigitsMatrix,Y_pred)\n",
    "    num = 0\n",
    "    for adder in range(10):\n",
    "        num += cm[adder,adder]\n",
    "    K_acc[iter] = num\n"
   ]
  },
  {
   "cell_type": "code",
   "execution_count": 85,
   "metadata": {},
   "outputs": [
    {
     "data": {
      "text/plain": [
       "array([0.98625793, 0.97780127, 0.98942918, 0.98308668, 0.98097252,\n",
       "       0.97780127, 0.97674419, 0.97463002, 0.97357294, 0.9756871 ,\n",
       "       0.97780127, 0.97674419, 0.97463002, 0.97357294, 0.97357294,\n",
       "       0.97145877, 0.9756871 , 0.97145877, 0.97251586, 0.96934461,\n",
       "       0.97040169, 0.96723044, 0.96723044, 0.9640592 , 0.96300211,\n",
       "       0.96194503, 0.96088795, 0.9640592 , 0.96194503, 0.96300211])"
      ]
     },
     "execution_count": 85,
     "metadata": {},
     "output_type": "execute_result"
    }
   ],
   "source": [
    "K_acc/len(test_file_list)"
   ]
  },
  {
   "cell_type": "markdown",
   "metadata": {},
   "source": [
    "照例写出k取不同值时的正确率,运算后得知,当K取3时,准确度最高为98.94%"
   ]
  },
  {
   "cell_type": "code",
   "execution_count": null,
   "metadata": {},
   "outputs": [],
   "source": []
  }
 ],
 "metadata": {
  "kernelspec": {
   "display_name": "Python 3",
   "language": "python",
   "name": "python3"
  },
  "language_info": {
   "codemirror_mode": {
    "name": "ipython",
    "version": 3
   },
   "file_extension": ".py",
   "mimetype": "text/x-python",
   "name": "python",
   "nbconvert_exporter": "python",
   "pygments_lexer": "ipython3",
   "version": "3.6.4"
  }
 },
 "nbformat": 4,
 "nbformat_minor": 2
}
