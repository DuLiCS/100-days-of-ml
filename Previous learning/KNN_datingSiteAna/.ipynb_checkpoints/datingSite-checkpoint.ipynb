{
 "cells": [
  {
   "cell_type": "code",
   "execution_count": 55,
   "metadata": {},
   "outputs": [],
   "source": [
    "import pandas as pd\n",
    "from sklearn.preprocessing import MinMaxScaler \n",
    "\n"
   ]
  },
  {
   "cell_type": "code",
   "execution_count": 56,
   "metadata": {},
   "outputs": [],
   "source": [
    "dataset = pd.read_table('datingTestSet2.txt',sep='\\s+',header=None)\n",
    "X = dataset.iloc[:,:2].values\n",
    "Y = dataset.iloc[:,3].values\n",
    "from sklearn.model_selection import train_test_split\n",
    "X_train,X_test,Y_train,Y_test = train_test_split(X,Y,test_size = 0.25,random_state = 0)"
   ]
  },
  {
   "cell_type": "markdown",
   "metadata": {},
   "source": [
    "使用read_table来读入TXT文件,分隔符为空格,在这里需要注意的一点是,读入默认表头是第一行,在这里没有表头,因此要将header设为None"
   ]
  },
  {
   "cell_type": "markdown",
   "metadata": {},
   "source": [
    "接下来要将数据进行预处理,在这里打算使用两种方式,一种是归一化,另一种是正则化.分别使用."
   ]
  },
  {
   "cell_type": "code",
   "execution_count": 65,
   "metadata": {},
   "outputs": [],
   "source": [
    "dataset_nor = MinMaxScaler()  #归一化\n",
    "X_train = dataset_nor.fit_transform(X_train)\n",
    "X_test = dataset_nor.fit_transform(X_test)"
   ]
  },
  {
   "cell_type": "code",
   "execution_count": 76,
   "metadata": {},
   "outputs": [],
   "source": [
    "from sklearn.neighbors import KNeighborsClassifier\n",
    "classifier = KNeighborsClassifier(n_neighbors=3,metric='minkowski',p=2)"
   ]
  },
  {
   "cell_type": "code",
   "execution_count": 77,
   "metadata": {},
   "outputs": [
    {
     "data": {
      "text/plain": [
       "KNeighborsClassifier(algorithm='auto', leaf_size=30, metric='minkowski',\n",
       "           metric_params=None, n_jobs=1, n_neighbors=3, p=2,\n",
       "           weights='uniform')"
      ]
     },
     "execution_count": 77,
     "metadata": {},
     "output_type": "execute_result"
    }
   ],
   "source": [
    "classifier.fit(X_train,Y_train)"
   ]
  },
  {
   "cell_type": "code",
   "execution_count": 78,
   "metadata": {},
   "outputs": [],
   "source": [
    "Y_pred = classifier.predict(X_test)"
   ]
  },
  {
   "cell_type": "code",
   "execution_count": 79,
   "metadata": {},
   "outputs": [],
   "source": [
    "from sklearn.metrics import confusion_matrix\n",
    "cm = confusion_matrix(Y_test,Y_pred)"
   ]
  },
  {
   "cell_type": "code",
   "execution_count": 88,
   "metadata": {},
   "outputs": [
    {
     "data": {
      "text/plain": [
       "77"
      ]
     },
     "execution_count": 88,
     "metadata": {},
     "output_type": "execute_result"
    }
   ],
   "source": [
    "cm[0,0]"
   ]
  },
  {
   "cell_type": "code",
   "execution_count": null,
   "metadata": {},
   "outputs": [],
   "source": [
    "可以看出 分类结果的准确率还是非常棒的,接下来做一个好玩的事情,就是把k的值取不同,分析准确率的变化"
   ]
  },
  {
   "cell_type": "code",
   "execution_count": 113,
   "metadata": {},
   "outputs": [
    {
     "name": "stdout",
     "output_type": "stream",
     "text": [
      "0\n",
      "0.94\n",
      "1\n",
      "0.948\n",
      "2\n",
      "0.94\n",
      "3\n",
      "0.948\n",
      "4\n",
      "0.936\n",
      "5\n",
      "0.948\n",
      "6\n",
      "0.94\n",
      "7\n",
      "0.952\n",
      "8\n",
      "0.94\n",
      "9\n",
      "0.944\n",
      "10\n",
      "0.944\n",
      "11\n",
      "0.944\n",
      "12\n",
      "0.94\n",
      "13\n",
      "0.94\n",
      "14\n",
      "0.94\n",
      "15\n",
      "0.94\n",
      "16\n",
      "0.948\n",
      "17\n",
      "0.944\n",
      "18\n",
      "0.944\n",
      "19\n",
      "0.948\n",
      "20\n",
      "0.948\n",
      "21\n",
      "0.948\n",
      "22\n",
      "0.944\n",
      "23\n",
      "0.948\n",
      "24\n",
      "0.944\n",
      "25\n",
      "0.948\n",
      "26\n",
      "0.944\n",
      "27\n",
      "0.948\n",
      "28\n",
      "0.944\n",
      "29\n",
      "0.944\n"
     ]
    }
   ],
   "source": [
    "for k in range(30):\n",
    "    classifier = KNeighborsClassifier(n_neighbors=k+1,metric='minkowski',p=2)\n",
    "    classifier.fit(X_train,Y_train)\n",
    "    Y_pred = classifier.predict(X_test)\n",
    "    cm = confusion_matrix(Y_test,Y_pred)\n",
    "    K_acc = []\n",
    "    K_acc.append((cm[0,0]+cm[1,1]+cm[2,2])/250)\n",
    "    print(k)\n",
    "    print((cm[0,0]+cm[1,1]+cm[2,2])/250)\n"
   ]
  },
  {
   "cell_type": "markdown",
   "metadata": {},
   "source": [
    "可以看出在这个例子中 k = 8 最好"
   ]
  },
  {
   "cell_type": "code",
   "execution_count": null,
   "metadata": {},
   "outputs": [],
   "source": []
  }
 ],
 "metadata": {
  "kernelspec": {
   "display_name": "Python 3",
   "language": "python",
   "name": "python3"
  },
  "language_info": {
   "codemirror_mode": {
    "name": "ipython",
    "version": 3
   },
   "file_extension": ".py",
   "mimetype": "text/x-python",
   "name": "python",
   "nbconvert_exporter": "python",
   "pygments_lexer": "ipython3",
   "version": "3.6.4"
  }
 },
 "nbformat": 4,
 "nbformat_minor": 2
}
