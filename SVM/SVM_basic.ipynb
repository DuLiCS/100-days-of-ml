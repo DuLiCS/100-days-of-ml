{
 "cells": [
  {
   "cell_type": "markdown",
   "metadata": {},
   "source": [
    "# SVM Support Vector Machine\n",
    "SVM is the supervised machine learning algorithm,it mostly been used for classification problems. \n",
    "In this algorithm,each data has been plot in n-dimensional space.\n",
    "We perform classification by finding the hyperplane(超平面) that differentiates the two classes.\n",
    "The optimal HyperPlane is the one that maximizes the margins from both tags."
   ]
  }
 ],
 "metadata": {
  "kernelspec": {
   "display_name": "Python 3",
   "language": "python",
   "name": "python3"
  },
  "language_info": {
   "codemirror_mode": {
    "name": "ipython",
    "version": 3
   },
   "file_extension": ".py",
   "mimetype": "text/x-python",
   "name": "python",
   "nbconvert_exporter": "python",
   "pygments_lexer": "ipython3",
   "version": "3.6.4"
  }
 },
 "nbformat": 4,
 "nbformat_minor": 2
}
